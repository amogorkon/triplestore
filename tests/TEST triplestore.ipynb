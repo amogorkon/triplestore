{
 "cells": [
  {
   "cell_type": "code",
   "execution_count": 32,
   "metadata": {},
   "outputs": [
    {
     "name": "stdout",
     "output_type": "stream",
     "text": [
      "Overwriting test_units.py\n"
     ]
    }
   ],
   "source": [
    "%%writefile test_units.py\n",
    "\n",
    "from hypothesis import strategies as st, assume, given\n",
    "from pytest import fixture, raises\n",
    "from unittest import TestCase, skip\n",
    "\n",
    "from store.store import TripleStore, E, Predicate, Query, QuerySet\n",
    "\n",
    "@given(st.text())\n",
    "def test_E(url):\n",
    "    # hypothesis testing on name should be possible, but it must be an identifier\n",
    "    e1 = E()\n",
    "    e2 = eval(repr(e1))\n",
    "    # Equality is determined by their UUID, which must be the same now.\n",
    "    assert e1 == e2\n",
    "    # However, they can't be the same object.\n",
    "    assert e1 is not e2\n",
    "    # On the other hand, an entity created on its own must have a new UUID.\n",
    "    e3 = E()\n",
    "    assert e1 != e3\n",
    "    # The id argument must be a valid UUID.\n",
    "    with raises(AttributeError, message=\"'int' object has no attribute 'replace'\"):\n",
    "        E(id_=2)\n",
    "    # Let's use all arguments.\n",
    "    e4 = E(name='test', id_='b19102c6-20b8-4afb-8520-ef910b1dc93b',url=url)\n",
    "    assert str(e4) == \"test\"\n",
    "    assert repr(e4) == f\"E(name='test', id_='b19102c6-20b8-4afb-8520-ef910b1dc93b', url='{url}')\"\n",
    "    # repr code often is quite noisy, so we need to check that\n",
    "    assert repr(e1) == f\"E(id_='{e1.id}')\"\n",
    "    test = E(name=\"test\")\n",
    "    assert str(test) == \"test\"\n",
    "    assert repr(test) == f\"E(name='test', id_='{test.id}')\"\n",
    "    \n",
    "def test_Predicate():\n",
    "    class Test(Predicate):\n",
    "        def validate(self, value):\n",
    "            return isinstance(value, str)\n",
    "        \n",
    "    test = Test()\n",
    "    assert test.validate(\"test\")\n",
    "    assert test.name == \"Test\"\n",
    "    \n"
   ]
  },
  {
   "cell_type": "code",
   "execution_count": 28,
   "metadata": {},
   "outputs": [
    {
     "name": "stdout",
     "output_type": "stream",
     "text": [
      "Overwriting test_functionality.py\n"
     ]
    }
   ],
   "source": [
    "%%writefile test_functionality.py\n",
    "\n",
    "from pytest import fixture, raises\n",
    "from unittest.mock import Mock\n",
    "from unittest import skip\n",
    "\n",
    "from store.store import TripleStore, E, Predicate, Query, Triple\n",
    "\n",
    "@fixture\n",
    "def body():\n",
    "    return TripleStore()\n",
    "\n",
    "@fixture\n",
    "def name():\n",
    "    class Name(Predicate):\n",
    "        pass\n",
    "    return Name()\n",
    "\n",
    "@fixture\n",
    "def is_a():\n",
    "    class Is_a(Predicate):\n",
    "        pass\n",
    "    return Is_a()\n",
    "\n",
    "@fixture\n",
    "def destroyed():\n",
    "    class Destroyed(Predicate):\n",
    "        pass\n",
    "    return Destroyed()\n",
    "\n",
    "@fixture\n",
    "def has():\n",
    "    class Has(Predicate):\n",
    "        pass\n",
    "    return Has()\n",
    "    \n",
    "def test_bodily_functions(body, name, is_a):\n",
    "    # Let's make a new entity in body with the name \"head\".\n",
    "    e = body.create_subjects_with({name:[\"head\"]})[0]\n",
    "    # Indexing body with the entity as single argument should return a dict with its attributes.\n",
    "    assert body[e] == {name: {\"head\"}}\n",
    "    # body.get should return a single entity, not an iterator.\n",
    "    assert body.get({name:\"head\"}) == e\n",
    "    # body.get_all should return a set\n",
    "    assert body.get_all({name: \"head\"}) == {e}\n",
    "    # Let's see if this works with an enitity made outside.\n",
    "    e2 = E()\n",
    "    # We should be able to use the dict of attributes of a single index as argument to set_all.\n",
    "    body.set_all(subjects=[e2], predobjects=body[e])\n",
    "    # body.get_last_added should return the entity inserted last into the store.\n",
    "    assert body.get_last_added() == e2\n",
    "    # body[::] should return a set with all triples in the store, the iterator over body should produce the same.\n",
    "    assert body[::] == {(e, name, \"head\"), (e2, name, \"head\")} == {x for x in body}\n",
    "    # Using the index-assignment pattern should work for 1 or many entities as subjects, a given pred and an object.\n",
    "    body[body[:name:\"head\"]:is_a] = \"part\"\n",
    "    # body.get_all with a dict should produce the same result as using slices and ANDing the produced sets.\n",
    "    assert body.get_all({is_a:\"part\", name:\"head\"}) == {e, e2} == body[:name:\"head\"] & body[:is_a:\"part\"]\n",
    "    \n",
    "\n",
    "def test_Triple_as_subject(body, has, destroyed):\n",
    "    hand = E(name=\"hand\")\n",
    "    ring = E(name=\"ring\")\n",
    "    body[hand:has] = ring\n",
    "    assert Triple(hand, has, ring) in body\n",
    "    body[Triple(hand, has, ring):destroyed] = True"
   ]
  }
 ],
 "metadata": {
  "kernelspec": {
   "display_name": "Python 3",
   "language": "python",
   "name": "python3"
  },
  "language_info": {
   "codemirror_mode": {
    "name": "ipython",
    "version": 3
   },
   "file_extension": ".py",
   "mimetype": "text/x-python",
   "name": "python",
   "nbconvert_exporter": "python",
   "pygments_lexer": "ipython3",
   "version": "3.7.0"
  }
 },
 "nbformat": 4,
 "nbformat_minor": 2
}
