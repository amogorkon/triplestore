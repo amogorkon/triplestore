{
 "cells": [
  {
   "cell_type": "markdown",
   "metadata": {},
   "source": [
    "Small demonstration how to add and query items.\n",
    "The first part shows how to add by direct indexing, which is the most basic way to add stuff, also used in the internal machinery.\n",
    "Then store.add does the same but only in one line. Lastly, store.add_all abstracts store.add to make it simple to add a batch of similar items with different combinations.\n",
    "\n",
    "To retrieve items, store.get applies the same idea of API as store.add - a dictionary of predicate to object - in order to return the entities that match all criteria.\n",
    "The result is a regular set, which makes it easy to combine with other queries.\n",
    "To retrieve information about a given entity, just do store[entity] to get a namedtuple that represents that entity. If you don't know exactly what predicates an entity has before you query it, you can check the namedtuple.\\_fields attribute.\n",
    "\n",
    "A little heads up:\n",
    "1. Keep in mind that store.add_all takes *lists* of things that will be iterated over. You can easily miss that if you just want to add a single predicate as string which is also an iterable.\n",
    "2. store.get returns sets, which can't be indexed. If you don't need the set after, you can just set.pop(), but it can be an issue if you just want a single item without altering the set. The trick to do that (yes, believe it or not, this is the most efficient way) is\n",
    "    \n",
    "        s = {1,2,3}\n",
    "        for x in s:\n",
    "            break\n",
    "        return x"
   ]
  },
  {
   "cell_type": "code",
   "execution_count": 6,
   "metadata": {},
   "outputs": [
    {
     "ename": "SyntaxError",
     "evalue": "invalid syntax (<ipython-input-6-facbbef38c02>, line 24)",
     "output_type": "error",
     "traceback": [
      "\u001b[0;36m  File \u001b[0;32m\"<ipython-input-6-facbbef38c02>\"\u001b[0;36m, line \u001b[0;32m24\u001b[0m\n\u001b[0;31m    body.create_subjects_with({name:[\"eye\"] side:[\"left\", \"right\"], is_a:[\"organ\", \"sense\"]})\u001b[0m\n\u001b[0m                                               ^\u001b[0m\n\u001b[0;31mSyntaxError\u001b[0m\u001b[0;31m:\u001b[0m invalid syntax\n"
     ]
    }
   ],
   "source": [
    "from store.store import TripleStore, E, Predicate\n",
    "    \n",
    "body = TripleStore()\n",
    "\n",
    "class Side(Predicate):\n",
    "    pass\n",
    "\n",
    "class Name(Predicate):\n",
    "    pass\n",
    "\n",
    "class Is_a(Predicate):\n",
    "    pass\n",
    "\n",
    "class Has(Predicate):\n",
    "    pass\n",
    "\n",
    "name = Name()\n",
    "side = Side()\n",
    "is_a = Is_a()\n",
    "has = Has()\n",
    "\n",
    "\n",
    "body.create_subjects_with({name:[\"prototype_sense\"], is_a:[\"sense\", \"organ\"], })\n",
    "body.create_subjects_with({name:[\"eye\"] side:[\"left\", \"right\"], is_a:[\"organ\", \"sense\"]})\n",
    "\n",
    "fingers = \"thumb index middle ring pinky\"\n",
    "body.add_all((Name(f) for f in fingers), [Side(\"left\"), Side(\"right\")], Is_a(\"finger\"))\n",
    "\n",
    "x = body.get_which(Is_a(\"organ\")).pop()"
   ]
  },
  {
   "cell_type": "markdown",
   "metadata": {},
   "source": [
    "It is useful to add criteria for predicates, like types and possible ranges. This is done by store.set_check(p, func), which stores the function in a dict to be called when anything with that predicate is added. Most often, a simple lambda like\n",
    "\n",
    "    store.set_check(P.number, lambda o: 1 < o < 10)\n",
    "    \n",
    "will do the trick."
   ]
  },
  {
   "cell_type": "markdown",
   "metadata": {
    "collapsed": true
   },
   "source": [
    "## Sources\n",
    "\n",
    "* [https://en.wikipedia.org/wiki/SPARQL]\n",
    "* [http://www.eionet.europa.eu/software/sparql-client/]"
   ]
  }
 ],
 "metadata": {
  "kernelspec": {
   "display_name": "Python 3",
   "language": "python",
   "name": "python3"
  },
  "language_info": {
   "codemirror_mode": {
    "name": "ipython",
    "version": 3
   },
   "file_extension": ".py",
   "mimetype": "text/x-python",
   "name": "python",
   "nbconvert_exporter": "python",
   "pygments_lexer": "ipython3",
   "version": "3.7.0"
  }
 },
 "nbformat": 4,
 "nbformat_minor": 2
}
