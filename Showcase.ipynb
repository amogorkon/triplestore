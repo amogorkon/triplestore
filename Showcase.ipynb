{
 "cells": [
  {
   "cell_type": "markdown",
   "metadata": {
    "collapsed": true,
    "deletable": true,
    "editable": true
   },
   "source": [
    "## Sources\n",
    "\n",
    "* [https://en.wikipedia.org/wiki/SPARQL]\n",
    "* [http://www.eionet.europa.eu/software/sparql-client/]"
   ]
  }
 ],
 "metadata": {
  "kernelspec": {
   "display_name": "Python 3",
   "language": "python",
   "name": "python3"
  }
 },
 "nbformat": 4,
 "nbformat_minor": 2
}
