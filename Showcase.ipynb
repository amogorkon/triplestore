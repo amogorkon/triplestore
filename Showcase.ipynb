{
 "cells": [
  {
   "cell_type": "code",
   "execution_count": 4,
   "metadata": {
    "collapsed": false
   },
   "outputs": [
    {
     "data": {
      "text/plain": [
       "{'thumb'}"
      ]
     },
     "execution_count": 4,
     "metadata": {},
     "output_type": "execute_result"
    }
   ],
   "source": [
    "from store.store import TripleStore, E, BasePredicate\n",
    "\n",
    "class P(BasePredicate):\n",
    "    name = 1\n",
    "    side = 2\n",
    "    is_a = 3\n",
    "    \n",
    "body = TripleStore()\n",
    "\n",
    "x = E()\n",
    "body[x:P.name] = \"thumb\"\n",
    "body[x:P.side] = \"left\"\n",
    "body[x:P.is_a] = \"finger\"\n",
    "\n",
    "body[x].name"
   ]
  },
  {
   "cell_type": "markdown",
   "metadata": {
    "collapsed": true,
    "deletable": true,
    "editable": true
   },
   "source": [
    "## Sources\n",
    "\n",
    "* [https://en.wikipedia.org/wiki/SPARQL]\n",
    "* [http://www.eionet.europa.eu/software/sparql-client/]"
   ]
  }
 ],
 "metadata": {
  "kernelspec": {
   "display_name": "Python 3",
   "language": "python",
   "name": "python3"
  },
  "language_info": {
   "codemirror_mode": {
    "name": "ipython",
    "version": 3
   },
   "file_extension": ".py",
   "mimetype": "text/x-python",
   "name": "python",
   "nbconvert_exporter": "python",
   "pygments_lexer": "ipython3",
   "version": "3.6.0b2"
  }
 },
 "nbformat": 4,
 "nbformat_minor": 2
}
