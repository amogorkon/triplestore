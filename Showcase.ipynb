{
 "cells": [
  {
   "cell_type": "markdown",
   "metadata": {},
   "source": [
    "Small demonstration how to add and query items.\n",
    "The first part shows how to add by direct indexing, which is the most basic way to add stuff, also used in the internal machinery.\n",
    "Then store.add does the same but only in one line. Lastly, store.add_all abstracts store.add to make it simple to add a batch of similar items with different combinations.\n",
    "\n",
    "To retrieve items, store.get applies the same idea of API as store.add - a dictionary of predicate to object - in order to return the entities that match all criteria.\n",
    "The result is a regular set, which makes it easy to combine with other queries.\n",
    "To retrieve information about a given entity, just do store[entity] to get a namedtuple that represents that entity. If you don't know exactly what predicates an entity has before you query it, you can check the namedtuple.\\_fields attribute.\n",
    "\n",
    "A little heads up:\n",
    "1. Keep in mind that store.add_all takes *lists* of things that will be iterated over. You can easily miss that if you just want to add a single predicate as string which is also an iterable.\n",
    "2. store.get returns sets, which can't be indexed. If you don't need the set after, you can just set.pop(), but it can be an issue if you just want a single item without altering the set. The trick to do that (yes, believe it or not, this is the most efficient way) is\n",
    "    \n",
    "        s = {1,2,3}\n",
    "        for x in s:\n",
    "            break\n",
    "        return x"
   ]
  },
  {
   "cell_type": "code",
   "execution_count": 32,
   "metadata": {
    "collapsed": false,
    "deletable": true,
    "editable": true
   },
   "outputs": [
    {
     "data": {
      "text/plain": [
       "('name', 'side', 'is_a')"
      ]
     },
     "execution_count": 32,
     "metadata": {},
     "output_type": "execute_result"
    }
   ],
   "source": [
    "from store.store import TripleStore, E, BasePredicate\n",
    "\n",
    "P = BasePredicate(\"P\", \"name side is_a\")\n",
    "    \n",
    "body = TripleStore()\n",
    "\n",
    "x = E()\n",
    "body[x:P.name] = \"eye\"\n",
    "body[x:P.side] = \"left\"\n",
    "body[x:P.is_a] = \"organ\"\n",
    "\n",
    "body.add({P.name: \"eye\", P.side:\"right\", P.is_a:\"organ\"})\n",
    "\n",
    "fingers = \"thumb index middle ring pinky\".split()\n",
    "body.add_all({P.name:fingers, P.side:[\"left\", \"right\"], P.is_a:[\"finger\"]})\n",
    "\n",
    "[body[x].name for x in body.get({P.side:\"left\"})]\n",
    "\n",
    "x = body[body.get({P.is_a:\"organ\"}).pop()]\n",
    "x._fields"
   ]
  },
  {
   "cell_type": "markdown",
   "metadata": {
    "collapsed": true,
    "deletable": true,
    "editable": true
   },
   "source": [
    "## Sources\n",
    "\n",
    "* [https://en.wikipedia.org/wiki/SPARQL]\n",
    "* [http://www.eionet.europa.eu/software/sparql-client/]"
   ]
  }
 ],
 "metadata": {
  "kernelspec": {
   "display_name": "Python 3",
   "language": "python",
   "name": "python3"
  },
  "language_info": {
   "codemirror_mode": {
    "name": "ipython",
    "version": 3
   },
   "file_extension": ".py",
   "mimetype": "text/x-python",
   "name": "python",
   "nbconvert_exporter": "python",
   "pygments_lexer": "ipython3",
   "version": "3.6.0b2"
  }
 },
 "nbformat": 4,
 "nbformat_minor": 2
}
